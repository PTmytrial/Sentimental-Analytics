{
  "nbformat": 4,
  "nbformat_minor": 0,
  "metadata": {
    "colab": {
      "provenance": [],
      "include_colab_link": true
    },
    "kernelspec": {
      "name": "python3",
      "display_name": "Python 3"
    },
    "language_info": {
      "name": "python"
    }
  },
  "cells": [
    {
      "cell_type": "markdown",
      "metadata": {
        "id": "view-in-github",
        "colab_type": "text"
      },
      "source": [
        "<a href=\"https://colab.research.google.com/github/PTmytrial/Sentimental-Analytics/blob/main/Lexicon_Based_Sentiment_.ipynb\" target=\"_parent\"><img src=\"https://colab.research.google.com/assets/colab-badge.svg\" alt=\"Open In Colab\"/></a>"
      ]
    },
    {
      "cell_type": "markdown",
      "source": [
        "# For Loops in Python"
      ],
      "metadata": {
        "id": "xuJ7OcNLf8TH"
      }
    },
    {
      "cell_type": "code",
      "source": [
        "# iterate over list\n",
        "# iterate using range()"
      ],
      "metadata": {
        "id": "XV6TFNQ6f_FI"
      },
      "execution_count": null,
      "outputs": []
    },
    {
      "cell_type": "code",
      "source": [
        "list_of_numbers = [1,2,3,4,5]\n",
        "for x in list_of_numbers:\n",
        "  print(x)\n",
        "  print(x*2)"
      ],
      "metadata": {
        "colab": {
          "base_uri": "https://localhost:8080/"
        },
        "id": "FOK2z8XcZXRX",
        "outputId": "c8d13397-e4cd-4098-9d2f-5947bd119877"
      },
      "execution_count": null,
      "outputs": [
        {
          "output_type": "stream",
          "name": "stdout",
          "text": [
            "1\n",
            "0.5\n",
            "2\n",
            "1.0\n",
            "3\n",
            "1.5\n",
            "4\n",
            "2.0\n",
            "5\n",
            "2.5\n"
          ]
        }
      ]
    },
    {
      "cell_type": "code",
      "source": [
        "list_of_numbers = [1,2,3,4,5]\n",
        "for i,x in enumerate(list_of_numbers):\n",
        "  list_of_numbers[i] = x*2\n",
        "  print(i,list_of_numbers[i])"
      ],
      "metadata": {
        "colab": {
          "base_uri": "https://localhost:8080/"
        },
        "id": "_LXcvDvWZy7x",
        "outputId": "87cc69c0-590e-4a2f-b948-a16455ed6cc8"
      },
      "execution_count": null,
      "outputs": [
        {
          "output_type": "stream",
          "name": "stdout",
          "text": [
            "0 2\n",
            "1 4\n",
            "2 6\n",
            "3 8\n",
            "4 10\n"
          ]
        }
      ]
    },
    {
      "cell_type": "code",
      "source": [
        "students = ['Alice', 'Bob', 'Charlie']\n",
        "grades = {'Alice': 85, 'Bob': 92, 'Charlie': 78}\n",
        "\n",
        "for i,x in enumerate(students):\n",
        "  print(students[i])"
      ],
      "metadata": {
        "colab": {
          "base_uri": "https://localhost:8080/"
        },
        "id": "gukeHPI0bSNX",
        "outputId": "98c5b244-656e-40f3-f930-d55cd997a4db"
      },
      "execution_count": null,
      "outputs": [
        {
          "output_type": "stream",
          "name": "stdout",
          "text": [
            "Alice\n",
            "Bob\n",
            "Charlie\n"
          ]
        }
      ]
    },
    {
      "cell_type": "code",
      "source": [
        "students = ['Alice', 'Bob', 'Charlie']\n",
        "grades = {'Alice': 85, 'Bob': 92, 'Charlie': 78}\n",
        "\n",
        "for i,x in enumerate(students):\n",
        "  print(grades['Alice'])"
      ],
      "metadata": {
        "colab": {
          "base_uri": "https://localhost:8080/"
        },
        "id": "JQvpuuIkcEHO",
        "outputId": "ad701b07-5bc1-469e-913a-400633de6ed8"
      },
      "execution_count": null,
      "outputs": [
        {
          "output_type": "stream",
          "name": "stdout",
          "text": [
            "85\n",
            "85\n",
            "85\n"
          ]
        }
      ]
    },
    {
      "cell_type": "code",
      "source": [
        "students = ['Alice', 'Bob', 'Charlie']\n",
        "grades = {'Alice': 85, 'Bob': 92, 'Charlie': 78}\n",
        "\n",
        "for i,x in enumerate(students):\n",
        "  print(grades[x])"
      ],
      "metadata": {
        "colab": {
          "base_uri": "https://localhost:8080/"
        },
        "id": "8rpJYH0ScP_c",
        "outputId": "d7168a05-bef4-4327-8223-a89e016f8387"
      },
      "execution_count": null,
      "outputs": [
        {
          "output_type": "stream",
          "name": "stdout",
          "text": [
            "85\n",
            "92\n",
            "78\n"
          ]
        }
      ]
    },
    {
      "cell_type": "code",
      "source": [
        "students = ['Alice', 'Bob', 'Charlie']\n",
        "grades = {'Alice': 85, 'Bob': 92, 'Charlie': 78}\n",
        "\n",
        "for i,x in enumerate(students):\n",
        "  grade = grades[x]\n",
        "  print(x,grade)"
      ],
      "metadata": {
        "colab": {
          "base_uri": "https://localhost:8080/"
        },
        "id": "kn36yESQcgEm",
        "outputId": "c52e7d0d-e03b-48d4-f159-07dcfd7e25b6"
      },
      "execution_count": null,
      "outputs": [
        {
          "output_type": "stream",
          "name": "stdout",
          "text": [
            "Alice 85\n",
            "Bob 92\n",
            "Charlie 78\n"
          ]
        }
      ]
    },
    {
      "cell_type": "code",
      "source": [
        "students = ['Alice', 'Bob', 'Charlie']\n",
        "grades = {'Alice': 85, 'Bob': 92, 'Charlie': 78}\n",
        "\n",
        "for i,x in enumerate(students):\n",
        "  grade = grades[x]\n",
        "  new_grade = grade + 5\n",
        "  print(new_grade)"
      ],
      "metadata": {
        "colab": {
          "base_uri": "https://localhost:8080/"
        },
        "id": "IYOZ0h1Jc4Km",
        "outputId": "97d29db4-1d17-4ed2-a6fc-4604b196247d"
      },
      "execution_count": null,
      "outputs": [
        {
          "output_type": "stream",
          "name": "stdout",
          "text": [
            "90\n",
            "97\n",
            "83\n"
          ]
        }
      ]
    },
    {
      "cell_type": "code",
      "source": [
        "students = ['Alice', 'Bob', 'Charlie']\n",
        "grades = {'Alice': 85, 'Bob': 92, 'Charlie': 78}\n",
        "\n",
        "for i,x in enumerate(students):\n",
        "  grade = grades[x]\n",
        "  new_grade = grade + i\n",
        "  print(new_grade)"
      ],
      "metadata": {
        "colab": {
          "base_uri": "https://localhost:8080/"
        },
        "id": "yE0qiwGcdOfA",
        "outputId": "49046c34-cc8b-45b2-cf9d-811212d52f90"
      },
      "execution_count": null,
      "outputs": [
        {
          "output_type": "stream",
          "name": "stdout",
          "text": [
            "85\n",
            "93\n",
            "80\n"
          ]
        }
      ]
    },
    {
      "cell_type": "code",
      "source": [
        "students = ['Alice', 'Bob', 'Charlie']\n",
        "grades = {'Alice': 85, 'Bob': 92, 'Charlie': 78}\n",
        "\n",
        "for i,x in enumerate(students):\n",
        "  grade = grades[x]\n",
        "  new_grade = grade + i\n",
        "print(new_grade)"
      ],
      "metadata": {
        "colab": {
          "base_uri": "https://localhost:8080/"
        },
        "id": "mBF8A1k5dukF",
        "outputId": "3b445d08-1db6-4a2c-f477-f333c0985649"
      },
      "execution_count": null,
      "outputs": [
        {
          "output_type": "stream",
          "name": "stdout",
          "text": [
            "80\n"
          ]
        }
      ]
    },
    {
      "cell_type": "code",
      "source": [
        "students = ['Alice', 'Bob', 'Charlie']\n",
        "grades = {'Alice': 85, 'Bob': 92, 'Charlie': 78}\n",
        "\n",
        "for i,x in enumerate(students):\n",
        "  grade = grades[x]\n",
        "  new_grade = grade + i\n",
        "  print(new_grade)\n",
        "  grades[x] = new_grade\n",
        "  print(grades)"
      ],
      "metadata": {
        "colab": {
          "base_uri": "https://localhost:8080/"
        },
        "id": "uzChUq5EeJnD",
        "outputId": "60bcd628-19f3-4150-828d-3afe23d887b6"
      },
      "execution_count": null,
      "outputs": [
        {
          "output_type": "stream",
          "name": "stdout",
          "text": [
            "85\n",
            "{'Alice': 85, 'Bob': 92, 'Charlie': 78}\n",
            "93\n",
            "{'Alice': 85, 'Bob': 93, 'Charlie': 78}\n",
            "80\n",
            "{'Alice': 85, 'Bob': 93, 'Charlie': 80}\n"
          ]
        }
      ]
    },
    {
      "cell_type": "code",
      "source": [
        "students = ['Alice', 'Bob', 'Charlie']\n",
        "grades = {'Alice': 85, 'Bob': 92, 'Charlie': 78}\n",
        "\n",
        "for i,x in enumerate(students):\n",
        "  grade = grades[x]\n",
        "  new_grade = grade + i\n",
        "  print(new_grade)\n",
        "  grades[x] = new_grade\n",
        "print(grades)"
      ],
      "metadata": {
        "colab": {
          "base_uri": "https://localhost:8080/"
        },
        "id": "rCuWVyx8egQ0",
        "outputId": "88dfa5a2-1092-46de-e1b8-09992a01142c"
      },
      "execution_count": null,
      "outputs": [
        {
          "output_type": "stream",
          "name": "stdout",
          "text": [
            "85\n",
            "93\n",
            "80\n",
            "{'Alice': 85, 'Bob': 93, 'Charlie': 80}\n"
          ]
        }
      ]
    },
    {
      "cell_type": "markdown",
      "source": [
        "# If Statements in Python"
      ],
      "metadata": {
        "id": "52kpKVNwgDrg"
      }
    },
    {
      "cell_type": "code",
      "source": [
        "# if\n",
        "# else\n",
        "# elif"
      ],
      "metadata": {
        "id": "gdR_U_HVgHZZ"
      },
      "execution_count": null,
      "outputs": []
    },
    {
      "cell_type": "code",
      "source": [
        "students = ['Alice', 'Bob', 'Charlie']\n",
        "grades = {'Alice': 85, 'Bob': 92, 'Charlie': 78}\n",
        "\n",
        "for i,x in enumerate(students):\n",
        "  grade = grades[x]\n",
        "  if grade <80:\n",
        "    new_grade = 80\n",
        "  else:\n",
        "    new_grade = grade\n",
        "    grades[x] = new_grade\n",
        "print(grades)\n"
      ],
      "metadata": {
        "colab": {
          "base_uri": "https://localhost:8080/"
        },
        "id": "_oB9_xY2ekmp",
        "outputId": "a2ab304d-02be-4742-c4e0-d3c58e40534e"
      },
      "execution_count": null,
      "outputs": [
        {
          "output_type": "stream",
          "name": "stdout",
          "text": [
            "{'Alice': 85, 'Bob': 92, 'Charlie': 78}\n"
          ]
        }
      ]
    },
    {
      "cell_type": "markdown",
      "source": [
        "# Functions in Python"
      ],
      "metadata": {
        "id": "XkGqFq6SeDCM"
      }
    },
    {
      "cell_type": "code",
      "source": [
        "# modify a list in-place\n",
        "# return a number"
      ],
      "metadata": {
        "id": "glPQ7364eEO-"
      },
      "execution_count": null,
      "outputs": []
    },
    {
      "cell_type": "code",
      "source": [
        "def add_two_numbers(a,b):\n",
        "  c = a+b\n",
        "  return c\n",
        "\n",
        "add_two_numbers(2,3)"
      ],
      "metadata": {
        "colab": {
          "base_uri": "https://localhost:8080/"
        },
        "id": "Xun-PTQhf0IR",
        "outputId": "0336c32e-241c-4c6f-9257-d52b70fac6e4"
      },
      "execution_count": null,
      "outputs": [
        {
          "output_type": "execute_result",
          "data": {
            "text/plain": [
              "5"
            ]
          },
          "metadata": {},
          "execution_count": 62
        }
      ]
    },
    {
      "cell_type": "code",
      "source": [
        "students = ['Alice', 'Bob', 'Charlie']\n",
        "grades = {'Alice': 85, 'Bob': 92, 'Charlie': 78}\n",
        "\n",
        "def getClassAverage(students, grades):\n",
        "  numerator = 0\n",
        "  denominator = 0\n",
        "  for i,x in enumerate(students):\n",
        "    grade = grades[x]\n",
        "    numerator = numerator + grade\n",
        "    denominator = denominator + 1\n",
        "  average = numerator/denominator\n",
        "  return average\n",
        "\n",
        "getClassAverage(students, grades)"
      ],
      "metadata": {
        "colab": {
          "base_uri": "https://localhost:8080/"
        },
        "id": "P0SrmKp5gODt",
        "outputId": "5049407e-e2a2-4663-b4d2-16f7b3bd1e8e"
      },
      "execution_count": null,
      "outputs": [
        {
          "output_type": "execute_result",
          "data": {
            "text/plain": [
              "85.0"
            ]
          },
          "metadata": {},
          "execution_count": 63
        }
      ]
    },
    {
      "cell_type": "markdown",
      "source": [
        "# Tokenization"
      ],
      "metadata": {
        "id": "dHPYmMdMhjUi"
      }
    },
    {
      "cell_type": "markdown",
      "source": [
        "Virtually all approaches to NLP begin by tokenizing text. Tokenization typically occurs at the word level but can also be done on characters, syllables, etc.."
      ],
      "metadata": {
        "id": "pGEYHN6khpR4"
      }
    },
    {
      "cell_type": "code",
      "source": [
        "# represent text as a Python list of word tokens\n",
        "# standardize tokens by making them all lowercase"
      ],
      "metadata": {
        "id": "H4kJV18Ihii9"
      },
      "execution_count": null,
      "outputs": []
    },
    {
      "cell_type": "code",
      "source": [
        "document = 'Graet food, excellent service.'\n",
        "tokens = ['grate', 'food', 'excellent', 'service']\n"
      ],
      "metadata": {
        "id": "Oe43eAQyj-c7"
      },
      "execution_count": null,
      "outputs": []
    },
    {
      "cell_type": "markdown",
      "source": [
        "# Lexicon-Based Sentiment Analysis"
      ],
      "metadata": {
        "id": "LslXHMuUiBkg"
      }
    },
    {
      "cell_type": "markdown",
      "source": [
        "Lexicon-based sentiment analysis involves giving each word in a document a score and then adding-up those scores. Positive scores indicate positive sentiment, negative scores indicate negative sentiment."
      ],
      "metadata": {
        "id": "aF5Q31eZiEmB"
      }
    },
    {
      "cell_type": "code",
      "source": [
        "# represent a lexicon as a dictionary\n",
        "# use the lexicon and a list of tokens to calculate a sentiment score"
      ],
      "metadata": {
        "id": "ja-PofkziMEO"
      },
      "execution_count": null,
      "outputs": []
    },
    {
      "cell_type": "code",
      "source": [
        "lexicon = {\n",
        "    'grate': 2.4,\n",
        "    'food': 0,\n",
        "    'excellent': 10,\n",
        "    'bad': -4\n",
        "}\n",
        "\n",
        "score = 0\n",
        "\n",
        "for token in tokens:\n",
        "  if token in lexicon:\n",
        "    score = score + lexicon[token]\n",
        "\n",
        "print(score)"
      ],
      "metadata": {
        "colab": {
          "base_uri": "https://localhost:8080/"
        },
        "id": "RVZqur14khB2",
        "outputId": "eab48854-c0e5-4e13-c90b-6cca1a827784"
      },
      "execution_count": null,
      "outputs": [
        {
          "output_type": "stream",
          "name": "stdout",
          "text": [
            "12.4\n"
          ]
        }
      ]
    },
    {
      "cell_type": "markdown",
      "source": [
        "# Bag of Words"
      ],
      "metadata": {
        "id": "FUYn_9IiisoC"
      }
    },
    {
      "cell_type": "markdown",
      "source": [
        "Lexicon-based sentiment analysis represents text as a Bag of Words.\n",
        "A Bag of Words representation of text is one in which the order of words is ignored. Bag of Words is widely used because it is easy to implement and works well in many applications. But ignoring word order means losing a lot of what gives text meaning."
      ],
      "metadata": {
        "id": "qHCfT6wMiI8q"
      }
    }
  ]
}